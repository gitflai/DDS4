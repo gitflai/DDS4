{
  "nbformat": 4,
  "nbformat_minor": 0,
  "metadata": {
    "colab": {
      "name": "Aula 11 - DDS4 - Pre-processamendo de Dados",
      "provenance": [],
      "toc_visible": true,
      "authorship_tag": "ABX9TyOLzkDzjLGpjv6YtQsMIWsN",
      "include_colab_link": true
    },
    "kernelspec": {
      "name": "python3",
      "display_name": "Python 3"
    },
    "language_info": {
      "name": "python"
    }
  },
  "cells": [
    {
      "cell_type": "markdown",
      "metadata": {
        "id": "view-in-github",
        "colab_type": "text"
      },
      "source": [
        "<a href=\"https://colab.research.google.com/github/gitflai/DDS4/blob/main/Aula_11_DDS4_Pre_processamendo_de_Dados.ipynb\" target=\"_parent\"><img src=\"https://colab.research.google.com/assets/colab-badge.svg\" alt=\"Open In Colab\"/></a>"
      ]
    },
    {
      "cell_type": "markdown",
      "metadata": {
        "id": "iG7k5koMcaY5"
      },
      "source": [
        "![banner flai.jpg](data:image/jpeg;base64,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)"
      ]
    },
    {
      "cell_type": "markdown",
      "metadata": {
        "id": "N6GJ1yXaI7LY"
      },
      "source": [
        "## **Aula 11 - DDS4 - Pre-processamendo de Dados**"
      ]
    },
    {
      "cell_type": "markdown",
      "metadata": {
        "id": "Q9ZJR1jYpUY_"
      },
      "source": [
        "---\n",
        "## **Importação e Preparação dos Dados**"
      ]
    },
    {
      "cell_type": "code",
      "metadata": {
        "id": "MQlG3lPfz_C7"
      },
      "source": [
        "# via github \n",
        "\n",
        "import pandas as pd\n",
        "url = 'https://raw.githubusercontent.com/gitflai/DDS4/main/Churn_Modelling.csv'\n",
        "dados = pd.read_csv(url)\n",
        "dados.head()"
      ],
      "execution_count": null,
      "outputs": []
    },
    {
      "cell_type": "code",
      "metadata": {
        "id": "winVCK4mJsci"
      },
      "source": [
        "dados['Surname'].value_counts()"
      ],
      "execution_count": null,
      "outputs": []
    },
    {
      "cell_type": "code",
      "metadata": {
        "id": "XCisbVpgAVKn"
      },
      "source": [
        "X = dados.drop(['Exited'], axis = 1) \n",
        "y = dados['Exited']"
      ],
      "execution_count": null,
      "outputs": []
    },
    {
      "cell_type": "code",
      "metadata": {
        "id": "Btsr5ChiLJsu"
      },
      "source": [
        "X.head()"
      ],
      "execution_count": null,
      "outputs": []
    },
    {
      "cell_type": "code",
      "metadata": {
        "id": "kduMOo4VaGti"
      },
      "source": [
        ""
      ],
      "execution_count": null,
      "outputs": []
    },
    {
      "cell_type": "markdown",
      "metadata": {
        "id": "DfEvTAzUxDzq"
      },
      "source": [
        "## **Análise Exploratória dos Dados** "
      ]
    },
    {
      "cell_type": "code",
      "metadata": {
        "id": "cYYNOO800kBa"
      },
      "source": [
        "# instalando biblioteca de visualização\n",
        "\n",
        "!pip install sweetviz "
      ],
      "execution_count": null,
      "outputs": []
    },
    {
      "cell_type": "code",
      "metadata": {
        "id": "rk19IYFckDh0"
      },
      "source": [
        "import sweetviz as sv"
      ],
      "execution_count": null,
      "outputs": []
    },
    {
      "cell_type": "code",
      "metadata": {
        "id": "X0jCYGf10nFU"
      },
      "source": [
        "eda = sv.analyze(source = dados, \n",
        "                 target_feat = 'Exited')"
      ],
      "execution_count": null,
      "outputs": []
    },
    {
      "cell_type": "code",
      "metadata": {
        "id": "amaAhKpD3t-q"
      },
      "source": [
        "eda.show_notebook()"
      ],
      "execution_count": null,
      "outputs": []
    },
    {
      "cell_type": "markdown",
      "metadata": {
        "id": "g54kvz_0jyEN"
      },
      "source": [
        "---\n",
        "## **Pré-processamento para Machine Learning**\n",
        "\n",
        "Em Machine Learning, é comum utilizarmos conjuntos de dados 100% numéricos para que fique adequado para qualquer modelo que se deseje utilizar. Isso significa que não pode haver dados faltantes e nem variáveis do tipo string (ou outros tipos que não sejam numéricos). \n",
        "\n"
      ]
    },
    {
      "cell_type": "markdown",
      "metadata": {
        "id": "em_lAHVumyeS"
      },
      "source": [
        "---\n",
        "### **PP1 - Descarte de variáveis não importantes**"
      ]
    },
    {
      "cell_type": "code",
      "metadata": {
        "id": "Tk3wtouIvKK5"
      },
      "source": [
        "# dropando as variaveis de interesse\n",
        "dados.drop(['RowNumber', 'CustomerId', 'Surname'], axis = 1, inplace = True)\n"
      ],
      "execution_count": null,
      "outputs": []
    },
    {
      "cell_type": "code",
      "metadata": {
        "id": "fY2DxWj9b812"
      },
      "source": [
        "dados.head()"
      ],
      "execution_count": null,
      "outputs": []
    },
    {
      "cell_type": "markdown",
      "metadata": {
        "id": "lAOC2INMcDIo"
      },
      "source": [
        "---\n",
        "### **PP2 - Verificação de dados faltantes**"
      ]
    },
    {
      "cell_type": "code",
      "metadata": {
        "id": "E6FePBozb6Kb"
      },
      "source": [
        "dados.isnull().sum()"
      ],
      "execution_count": null,
      "outputs": []
    },
    {
      "cell_type": "code",
      "metadata": {
        "id": "DMD7R6-nv5sj"
      },
      "source": [
        "import missingno as missing"
      ],
      "execution_count": null,
      "outputs": []
    },
    {
      "cell_type": "code",
      "metadata": {
        "id": "t76q5J56wAzI"
      },
      "source": [
        "missing.matrix(dados, figsize = (8, 4), color = (0, 0.1, 0.25), sparkline = False);"
      ],
      "execution_count": null,
      "outputs": []
    },
    {
      "cell_type": "markdown",
      "metadata": {
        "id": "HLhUHRWsc1KC"
      },
      "source": [
        "---\n",
        "### **PP3 - Categorização de variáveis continuas**"
      ]
    },
    {
      "cell_type": "code",
      "metadata": {
        "id": "CKgRFAIqce53"
      },
      "source": [
        "dados['Balance'].plot(kind = 'hist', edgecolor = 'black')"
      ],
      "execution_count": null,
      "outputs": []
    },
    {
      "cell_type": "code",
      "metadata": {
        "id": "v7E-nfwOdLrV"
      },
      "source": [
        "dados[dados['Balance'] > 0]['Balance'].plot(kind = 'hist', edgecolor = 'black')"
      ],
      "execution_count": null,
      "outputs": []
    },
    {
      "cell_type": "code",
      "metadata": {
        "id": "9-h8CNEAe7i8"
      },
      "source": [
        "dados[dados['Balance'] > 0]['Balance'].describe()"
      ],
      "execution_count": null,
      "outputs": []
    },
    {
      "cell_type": "code",
      "metadata": {
        "id": "Et5_4bMkdki-"
      },
      "source": [
        "def auxiliar(x):\n",
        "    if x == 0:\n",
        "        return 'Zerada'\n",
        "    elif x < 100000:\n",
        "        return 'Até 100k'\n",
        "    elif x < 150000:\n",
        "        return '100k - 150k'\n",
        "    else:\n",
        "        return '150k+'\n",
        "\n",
        "dados['Balance'] = dados['Balance'].apply(auxiliar)\n",
        "dados.head()"
      ],
      "execution_count": null,
      "outputs": []
    },
    {
      "cell_type": "code",
      "metadata": {
        "id": "2DiocXJUeW8T"
      },
      "source": [
        "dados['Balance'].value_counts().plot(kind ='pie')"
      ],
      "execution_count": null,
      "outputs": []
    },
    {
      "cell_type": "markdown",
      "metadata": {
        "id": "Y4w9gDymc8KV"
      },
      "source": [
        "---\n",
        "### **PP4 - Agrupamento de Categorias**"
      ]
    },
    {
      "cell_type": "code",
      "metadata": {
        "id": "ZK5RioyVfgDS"
      },
      "source": [
        "dados.head()"
      ],
      "execution_count": null,
      "outputs": []
    },
    {
      "cell_type": "code",
      "metadata": {
        "id": "GmZq6BemiO4w"
      },
      "source": [
        "dados['Tenure'].value_counts()"
      ],
      "execution_count": null,
      "outputs": []
    },
    {
      "cell_type": "code",
      "metadata": {
        "id": "5cfbz5MnhbDL"
      },
      "source": [
        "def auxiliar(x):\n",
        "    if x <= 3:\n",
        "        return '0-3'\n",
        "    elif x <= 6:\n",
        "        return '4-6'\n",
        "    else:\n",
        "        return '7-10'\n",
        "\n",
        "dados['Tenure'] = dados['Tenure'].apply(auxiliar)"
      ],
      "execution_count": null,
      "outputs": []
    },
    {
      "cell_type": "code",
      "metadata": {
        "id": "RkM0vOUuhvqk"
      },
      "source": [
        "dados['Tenure'].value_counts().plot(kind = 'pie');"
      ],
      "execution_count": null,
      "outputs": []
    },
    {
      "cell_type": "code",
      "metadata": {
        "id": "ZBWd_VAkiYF6"
      },
      "source": [
        "dados['NumOfProducts'].value_counts()"
      ],
      "execution_count": null,
      "outputs": []
    },
    {
      "cell_type": "code",
      "metadata": {
        "id": "VOZDh-ZSipig"
      },
      "source": [
        "def auxiliar(x):\n",
        "    if x == 1:\n",
        "        return 'NumProd1'\n",
        "    else:\n",
        "        return 'NumProd2+'\n",
        "\n",
        "dados['NumOfProducts'] = dados['NumOfProducts'].apply(auxiliar)"
      ],
      "execution_count": null,
      "outputs": []
    },
    {
      "cell_type": "code",
      "metadata": {
        "id": "yUfsgKu7imGQ"
      },
      "source": [
        "dados['NumOfProducts'].value_counts().plot(kind = 'pie');"
      ],
      "execution_count": null,
      "outputs": []
    },
    {
      "cell_type": "code",
      "metadata": {
        "id": "V00l_J_zjGCC"
      },
      "source": [
        "dados.head()"
      ],
      "execution_count": null,
      "outputs": []
    },
    {
      "cell_type": "markdown",
      "metadata": {
        "id": "LxUHPx8bj-LN"
      },
      "source": [
        "---\n",
        "### **PP5 - Dummyficação de Variáveis**"
      ]
    },
    {
      "cell_type": "code",
      "metadata": {
        "id": "z9ocUFSbkMeS"
      },
      "source": [
        "pd.get_dummies(dados['Tenure'])"
      ],
      "execution_count": null,
      "outputs": []
    },
    {
      "cell_type": "code",
      "metadata": {
        "id": "qJfgwzFQkT_W"
      },
      "source": [
        "variaveis_cat = ['Geography', 'Gender', 'Tenure', 'Balance', 'NumOfProducts']\n",
        "dados = pd.get_dummies(dados, columns = variaveis_cat, drop_first = True)"
      ],
      "execution_count": null,
      "outputs": []
    },
    {
      "cell_type": "code",
      "metadata": {
        "id": "Ros7B_yok3iE"
      },
      "source": [
        "dados.head()"
      ],
      "execution_count": null,
      "outputs": []
    },
    {
      "cell_type": "markdown",
      "metadata": {
        "id": "DcF9E05Hlfsv"
      },
      "source": [
        "---\n",
        "### **PP6 - Controlando a Escala das Variáveis Contínuas**"
      ]
    },
    {
      "cell_type": "code",
      "metadata": {
        "id": "eGTffaGHlJuK"
      },
      "source": [
        "dados['CreditScore'].plot(kind = 'hist')"
      ],
      "execution_count": null,
      "outputs": []
    },
    {
      "cell_type": "code",
      "metadata": {
        "id": "nX6PgoPpllHh"
      },
      "source": [
        "dados['CreditScore'] = dados['CreditScore']/1000 "
      ],
      "execution_count": null,
      "outputs": []
    },
    {
      "cell_type": "code",
      "metadata": {
        "id": "Ww3yupNIl0rr"
      },
      "source": [
        "dados['CreditScore'].plot(kind = 'hist')"
      ],
      "execution_count": null,
      "outputs": []
    },
    {
      "cell_type": "markdown",
      "metadata": {
        "id": "EMgWkaermx6W"
      },
      "source": [
        "---"
      ]
    },
    {
      "cell_type": "code",
      "metadata": {
        "id": "MQYzx7Txl2Il"
      },
      "source": [
        "dados['Age'].plot(kind = 'hist');"
      ],
      "execution_count": null,
      "outputs": []
    },
    {
      "cell_type": "code",
      "metadata": {
        "id": "EnopJf5Ll2Ys"
      },
      "source": [
        "import numpy as np\n",
        "media = np.mean(dados['Age'])\n",
        "desvio = np.std(dados['Age'])\n",
        "dados['Age'] = (dados['Age'] - media)/desvio"
      ],
      "execution_count": null,
      "outputs": []
    },
    {
      "cell_type": "code",
      "metadata": {
        "id": "lH2m0LAqmOxo"
      },
      "source": [
        "dados['Age'].plot(kind = 'hist');"
      ],
      "execution_count": null,
      "outputs": []
    },
    {
      "cell_type": "markdown",
      "metadata": {
        "id": "guSsx_51meRv"
      },
      "source": [
        "---"
      ]
    },
    {
      "cell_type": "code",
      "metadata": {
        "id": "sdkQT-yNmgrB"
      },
      "source": [
        "dados['EstimatedSalary'].plot(kind = 'hist');"
      ],
      "execution_count": null,
      "outputs": []
    },
    {
      "cell_type": "code",
      "metadata": {
        "id": "6Yc5oeHemgrC"
      },
      "source": [
        "dados['EstimatedSalary'] = dados['EstimatedSalary']/100000"
      ],
      "execution_count": null,
      "outputs": []
    },
    {
      "cell_type": "code",
      "metadata": {
        "id": "jxc-NawpmgrC"
      },
      "source": [
        "dados['EstimatedSalary'].plot(kind = 'hist');"
      ],
      "execution_count": null,
      "outputs": []
    },
    {
      "cell_type": "code",
      "metadata": {
        "id": "UC55sdyam1jf"
      },
      "source": [
        "dados.head()"
      ],
      "execution_count": null,
      "outputs": []
    },
    {
      "cell_type": "code",
      "metadata": {
        "id": "evGalOk9m45v"
      },
      "source": [
        "dados.describe()"
      ],
      "execution_count": null,
      "outputs": []
    },
    {
      "cell_type": "markdown",
      "metadata": {
        "id": "oVQkrHGQje96"
      },
      "source": [
        "## **Revendo a EDA**"
      ]
    },
    {
      "cell_type": "code",
      "metadata": {
        "id": "IoAs0WIWjfZ_"
      },
      "source": [
        "eda = sv.analyze(source = dados, target_feat = 'Exited')\n",
        "eda.show_notebook()"
      ],
      "execution_count": null,
      "outputs": []
    },
    {
      "cell_type": "markdown",
      "metadata": {
        "id": "Ijk8m9FbjfaB"
      },
      "source": [
        "## **Machine Learning**"
      ]
    },
    {
      "cell_type": "code",
      "metadata": {
        "id": "pWCSQXPdpcCp"
      },
      "source": [
        "from sklearn.linear_model import LogisticRegression\n",
        "from sklearn.tree import DecisionTreeClassifier\n",
        "from sklearn.neighbors import KNeighborsClassifier\n",
        "from sklearn.ensemble import RandomForestClassifier\n",
        "from sklearn.ensemble import BaggingClassifier "
      ],
      "execution_count": null,
      "outputs": []
    },
    {
      "cell_type": "code",
      "metadata": {
        "id": "j0QL5IxZ8Cx8"
      },
      "source": [
        "from sklearn.model_selection import cross_validate\n",
        "from sklearn.model_selection import StratifiedKFold"
      ],
      "execution_count": null,
      "outputs": []
    },
    {
      "cell_type": "code",
      "metadata": {
        "id": "Qa2rPofVnebG"
      },
      "source": [
        "X = dados.drop('Exited', axis = 1)\n",
        "y = dados['Exited']\n",
        "\n",
        "lista_de_medidas = ['accuracy', 'recall', 'precision', 'balanced_accuracy', 'f1']\n",
        "nome_das_medidas = ['acurácia', 'sensibilidade', 'precisão', 'eficiência', 'f1-score']\n",
        "\n",
        "lista_de_modelos = [LogisticRegression(),\n",
        "                        DecisionTreeClassifier(max_depth = 3),\n",
        "                        DecisionTreeClassifier(max_depth = 5),\n",
        "                        DecisionTreeClassifier(max_depth = 7),\n",
        "                        KNeighborsClassifier(n_neighbors = 5),\n",
        "                        KNeighborsClassifier(n_neighbors = 15),\n",
        "                        KNeighborsClassifier(n_neighbors = 25),\n",
        "                        BaggingClassifier(),\n",
        "                        RandomForestClassifier(n_estimators=50, max_depth = 5),\n",
        "                        RandomForestClassifier(n_estimators=50, max_depth = 7),\n",
        "                        RandomForestClassifier(n_estimators=100, max_depth = 5),\n",
        "                        RandomForestClassifier(n_estimators=100, max_depth = 7)]\n",
        "\n",
        "nome_dos_modelos = ['Regressão Logística',\n",
        "                        'Árvore (prof = 3)',\n",
        "                        'Árvore (prof = 5)',\n",
        "                        'Árvore (prof = 7)',\n",
        "                        '5-NN',\n",
        "                        '15-NN',\n",
        "                        '25-NN',\n",
        "                        'Bagging',\n",
        "                        'Random Forest (arvs = 50, prof = 2)',\n",
        "                        'Random Forest (arvs = 50, prof = 3)',\n",
        "                        'Random Forest (arvs = 100, prof = 2)', \n",
        "                        'Random Forest (arvs = 100, prof = 3)']\n",
        "\n",
        "resultados0 = {}\n",
        "\n",
        "validacao = StratifiedKFold(n_splits = 10)\n",
        "\n",
        "\n",
        "for i in range(len(lista_de_modelos)):\n",
        "    print('Rodando modelo: ' + nome_dos_modelos[i])\n",
        "    accs_vc = cross_validate(lista_de_modelos[i], X, y, cv = validacao, scoring = lista_de_medidas)\n",
        "\n",
        "    acc = accs_vc['test_accuracy'].mean()\n",
        "    sen = accs_vc['test_recall'].mean()\n",
        "    vpp = accs_vc['test_precision'].mean()\n",
        "    bac = accs_vc['test_balanced_accuracy'].mean()\n",
        "    f1s = accs_vc['test_f1'].mean()\n",
        "\n",
        "    resultados0[nome_dos_modelos[i]] = [acc, sen, vpp, f1s, bac]\n",
        "    \n",
        "resultados = pd.DataFrame(resultados0, index = nome_das_medidas).T\n"
      ],
      "execution_count": null,
      "outputs": []
    },
    {
      "cell_type": "code",
      "metadata": {
        "id": "oVkVyoLLq1Pb"
      },
      "source": [
        "resultados.sort_values(by = 'f1-score', ascending = False)"
      ],
      "execution_count": null,
      "outputs": []
    },
    {
      "cell_type": "markdown",
      "metadata": {
        "id": "45Gj0QVLzUQG"
      },
      "source": [
        "---\n",
        "## **Exercícios Propostos**\n",
        "\n",
        "- Verifique o desempenho de algumas combinações de modelos. Varie entre as combinações 'hard' e 'soft'!"
      ]
    },
    {
      "cell_type": "markdown",
      "metadata": {
        "id": "KL5TPGiMrCuq"
      },
      "source": [
        "---\n",
        "**_#itstimetoflai_** "
      ]
    },
    {
      "cell_type": "code",
      "metadata": {
        "id": "6Cs9nrlBr3Mz"
      },
      "source": [
        ""
      ],
      "execution_count": null,
      "outputs": []
    }
  ]
}